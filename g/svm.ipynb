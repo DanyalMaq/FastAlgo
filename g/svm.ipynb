{
 "cells": [
  {
   "cell_type": "code",
   "execution_count": 2,
   "metadata": {},
   "outputs": [],
   "source": [
    "import numpy as np\n",
    "import torch\n",
    "from torch.utils.data import DataLoader, Subset\n",
    "import torchvision.transforms as transforms\n",
    "import torchvision.datasets as datasets\n",
    "from sklearn import svm\n",
    "from sklearn.metrics import accuracy_score"
   ]
  },
  {
   "cell_type": "code",
   "execution_count": 3,
   "metadata": {},
   "outputs": [
    {
     "name": "stdout",
     "output_type": "stream",
     "text": [
      "Files already downloaded and verified\n",
      "Files already downloaded and verified\n"
     ]
    }
   ],
   "source": [
    "# Define transformation to convert images to tensors and normalize\n",
    "transform = transforms.Compose([\n",
    "    transforms.ToTensor()\n",
    "])\n",
    "\n",
    "# Load CIFAR-10 dataset\n",
    "train_dataset = datasets.CIFAR10(root='./data', train=True, download=True, transform=transform)\n",
    "test_dataset = datasets.CIFAR10(root='./data', train=False, download=True, transform=transform)"
   ]
  },
  {
   "cell_type": "code",
   "execution_count": 4,
   "metadata": {},
   "outputs": [],
   "source": [
    "# Filter for airplane (0) and bird (2) classes\n",
    "classes_to_keep = [0, 2]\n",
    "train_indices = [i for i, label in enumerate(train_dataset.targets) if label in classes_to_keep]\n",
    "test_indices = [i for i, label in enumerate(test_dataset.targets) if label in classes_to_keep]\n",
    "\n",
    "train_subset = Subset(train_dataset, train_indices)\n",
    "test_subset = Subset(test_dataset, test_indices)"
   ]
  },
  {
   "cell_type": "code",
   "execution_count": 5,
   "metadata": {},
   "outputs": [],
   "source": [
    "# Create data loaders\n",
    "train_loader = DataLoader(train_subset, batch_size=len(train_subset), shuffle=False)\n",
    "test_loader = DataLoader(test_subset, batch_size=len(test_subset), shuffle=False)\n",
    "\n",
    "# Extract data\n",
    "x_train, y_train = next(iter(train_loader))\n",
    "x_test, y_test = next(iter(test_loader))\n",
    "\n",
    "# Flatten images into vectors\n",
    "x_train_flat = x_train.view(x_train.size(0), -1).numpy()\n",
    "x_test_flat = x_test.view(x_test.size(0), -1).numpy()\n",
    "\n",
    "# Normalize pixel values\n",
    "x_train_flat = x_train_flat / 255.0\n",
    "x_test_flat = x_test_flat / 255.0"
   ]
  },
  {
   "cell_type": "code",
   "execution_count": 6,
   "metadata": {},
   "outputs": [
    {
     "name": "stdout",
     "output_type": "stream",
     "text": [
      "SVM accuracy on airplane vs bird: 75.85%\n"
     ]
    }
   ],
   "source": [
    "# Relabel classes to 0 and 1 for easier interpretation\n",
    "y_train = y_train.numpy()\n",
    "y_test = y_test.numpy()\n",
    "y_train_binary = (y_train == 2).astype(int)  # 0: airplane, 1: bird\n",
    "y_test_binary = (y_test == 2).astype(int)\n",
    "\n",
    "# Initialize and train SVM\n",
    "clf = svm.SVC(kernel='linear')\n",
    "clf.fit(x_train_flat, y_train_binary)\n",
    "\n",
    "# Predict and evaluate\n",
    "y_pred = clf.predict(x_test_flat)\n",
    "accuracy = accuracy_score(y_test_binary, y_pred)\n",
    "\n",
    "print(f\"SVM accuracy on airplane vs bird: {accuracy * 100:.2f}%\")"
   ]
  },
  {
   "cell_type": "code",
   "execution_count": null,
   "metadata": {},
   "outputs": [],
   "source": []
  }
 ],
 "metadata": {
  "kernelspec": {
   "display_name": "ffcv",
   "language": "python",
   "name": "python3"
  },
  "language_info": {
   "codemirror_mode": {
    "name": "ipython",
    "version": 3
   },
   "file_extension": ".py",
   "mimetype": "text/x-python",
   "name": "python",
   "nbconvert_exporter": "python",
   "pygments_lexer": "ipython3",
   "version": "3.9.17"
  }
 },
 "nbformat": 4,
 "nbformat_minor": 2
}
