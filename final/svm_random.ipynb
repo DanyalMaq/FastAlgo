{
 "cells": [
  {
   "cell_type": "code",
   "execution_count": 1,
   "id": "5aa184a6",
   "metadata": {},
   "outputs": [],
   "source": [
    "import torch\n",
    "import torch.nn as nn\n",
    "import torch.nn.functional as F\n",
    "import torch.optim as optim\n",
    "import torchvision\n",
    "import torchvision.transforms as transforms\n",
    "from torch.utils.data import DataLoader"
   ]
  },
  {
   "cell_type": "code",
   "execution_count": 2,
   "id": "a29d675a",
   "metadata": {},
   "outputs": [
    {
     "name": "stdout",
     "output_type": "stream",
     "text": [
      "Files already downloaded and verified\n",
      "Files already downloaded and verified\n"
     ]
    }
   ],
   "source": [
    "import torchvision.datasets as datasets\n",
    "\n",
    "# Define transformation to convert images to tensors and normalize\n",
    "transform = transforms.Compose([\n",
    "    transforms.ToTensor()\n",
    "])\n",
    "\n",
    "# Load CIFAR-10 dataset\n",
    "train_dataset = datasets.CIFAR10(root='./data', train=True, download=True, transform=transform)\n",
    "test_dataset = datasets.CIFAR10(root='./data', train=False, download=True, transform=transform)"
   ]
  },
  {
   "cell_type": "markdown",
   "id": "695073af",
   "metadata": {},
   "source": [
    "### airplanes and birds (Class 0, 2)"
   ]
  },
  {
   "cell_type": "code",
   "execution_count": 3,
   "id": "3b9023b0",
   "metadata": {},
   "outputs": [],
   "source": [
    "from torch.utils.data import DataLoader, Subset\n",
    "from sklearn import svm\n",
    "from sklearn.metrics import accuracy_score"
   ]
  },
  {
   "cell_type": "code",
   "execution_count": 14,
   "id": "e29ea388",
   "metadata": {},
   "outputs": [],
   "source": [
    "# Filter for airplane (0) and bird (2) classes\n",
    "classes_to_keep = [0, 2]\n",
    "train_indices = [i for i, label in enumerate(train_dataset.targets) if label in classes_to_keep]\n",
    "test_indices = [i for i, label in enumerate(test_dataset.targets) if label in classes_to_keep]\n",
    "\n",
    "train_subset = Subset(train_dataset, train_indices)\n",
    "test_subset = Subset(test_dataset, test_indices)\n",
    "\n",
    "# Create data loaders\n",
    "train_loader = DataLoader(train_subset, batch_size=len(train_subset), shuffle=False)\n",
    "test_loader = DataLoader(test_subset, batch_size=len(test_subset), shuffle=False)\n",
    "\n",
    "# Extract data\n",
    "x_train, y_train = next(iter(train_loader))\n",
    "x_test, y_test = next(iter(test_loader))\n",
    "\n",
    "# Flatten images into vectors\n",
    "x_train_flat = x_train.view(x_train.size(0), -1).numpy()\n",
    "x_test_flat = x_test.view(x_test.size(0), -1).numpy()\n",
    "\n",
    "# Normalize pixel values\n",
    "x_train_flat = x_train_flat / 255.0\n",
    "x_test_flat = x_test_flat / 255.0\n",
    "\n",
    "# Relabel classes to 0 and 1 for easier interpretation\n",
    "y_train = y_train.numpy()\n",
    "y_test = y_test.numpy()\n",
    "y_train_binary = (y_train == 2).astype(int)  # 0: airplane, 1: bird\n",
    "y_test_binary = (y_test == 2).astype(int)"
   ]
  },
  {
   "cell_type": "code",
   "execution_count": 15,
   "id": "8aa1aefd",
   "metadata": {},
   "outputs": [
    {
     "name": "stdout",
     "output_type": "stream",
     "text": [
      "(10000, 3072)\n"
     ]
    }
   ],
   "source": [
    "print(x_train_flat.shape)"
   ]
  },
  {
   "cell_type": "code",
   "execution_count": 24,
   "id": "3e7d3fff",
   "metadata": {},
   "outputs": [
    {
     "name": "stdout",
     "output_type": "stream",
     "text": [
      "(2000, 3072)\n",
      "(2000,)\n"
     ]
    }
   ],
   "source": [
    "import random\n",
    "\n",
    "indices = random.sample(range(1, 10001), 2000)\n",
    "x_ss = x_train_flat[indices,]\n",
    "y_ss = y_train[indices]\n",
    "\n",
    "print(x_ss.shape)\n",
    "print(y_ss.shape)"
   ]
  },
  {
   "cell_type": "code",
   "execution_count": 25,
   "id": "44d2be86",
   "metadata": {},
   "outputs": [
    {
     "name": "stdout",
     "output_type": "stream",
     "text": [
      "SVM .2 random subset accuracy on airplane vs bird: 39.05%\n"
     ]
    }
   ],
   "source": [
    "# Initialize and train SVM\n",
    "clf = svm.SVC(kernel='linear')\n",
    "clf.fit(x_ss,y_ss)\n",
    "\n",
    "# Predict and evaluate\n",
    "y_pred = clf.predict(x_test_flat)\n",
    "accuracy = accuracy_score(y_test_binary, y_pred)\n",
    "\n",
    "print(f\"SVM .2 random subset accuracy on airplane vs bird: {accuracy * 100:.2f}%\")"
   ]
  }
 ],
 "metadata": {
  "kernelspec": {
   "display_name": "ffcv",
   "language": "python",
   "name": "python3"
  },
  "language_info": {
   "codemirror_mode": {
    "name": "ipython",
    "version": 3
   },
   "file_extension": ".py",
   "mimetype": "text/x-python",
   "name": "python",
   "nbconvert_exporter": "python",
   "pygments_lexer": "ipython3",
   "version": "3.9.17"
  }
 },
 "nbformat": 4,
 "nbformat_minor": 5
}
