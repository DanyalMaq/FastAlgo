{
 "cells": [
  {
   "cell_type": "code",
   "execution_count": 1,
   "id": "09f15952",
   "metadata": {},
   "outputs": [],
   "source": [
    "from coreset_construction import obtainSensitivity, generateCoreset"
   ]
  },
  {
   "cell_type": "code",
   "execution_count": 2,
   "id": "a4e96946",
   "metadata": {},
   "outputs": [],
   "source": [
    "import numpy as np\n",
    "import torch\n",
    "from torch.utils.data import DataLoader, Subset\n",
    "import torchvision.transforms as transforms\n",
    "import torchvision.datasets as datasets\n",
    "from sklearn import svm\n",
    "from sklearn.metrics import accuracy_score"
   ]
  },
  {
   "cell_type": "code",
   "execution_count": 3,
   "id": "44efe472",
   "metadata": {},
   "outputs": [
    {
     "name": "stdout",
     "output_type": "stream",
     "text": [
      "Files already downloaded and verified\n",
      "Files already downloaded and verified\n"
     ]
    }
   ],
   "source": [
    "# Define transformation to convert images to tensors and normalize\n",
    "transform = transforms.Compose([\n",
    "    transforms.ToTensor()\n",
    "])\n",
    "\n",
    "# Load CIFAR-10 dataset\n",
    "train_dataset = datasets.CIFAR10(root='./data', train=True, download=True, transform=transform)\n",
    "test_dataset = datasets.CIFAR10(root='./data', train=False, download=True, transform=transform)"
   ]
  },
  {
   "cell_type": "code",
   "execution_count": 4,
   "id": "7afa447d",
   "metadata": {},
   "outputs": [],
   "source": [
    "# Filter for airplane (0) and bird (2) classes\n",
    "classes_to_keep = [0, 2]\n",
    "train_indices = [i for i, label in enumerate(train_dataset.targets) if label in classes_to_keep]\n",
    "test_indices = [i for i, label in enumerate(test_dataset.targets) if label in classes_to_keep]\n",
    "\n",
    "train_subset = Subset(train_dataset, train_indices)\n",
    "test_subset = Subset(test_dataset, test_indices)"
   ]
  },
  {
   "cell_type": "code",
   "execution_count": 5,
   "id": "15f7114e",
   "metadata": {},
   "outputs": [],
   "source": [
    "# Create data loaders\n",
    "train_loader = DataLoader(train_subset, batch_size=len(train_subset), shuffle=False)\n",
    "test_loader = DataLoader(test_subset, batch_size=len(test_subset), shuffle=False)\n",
    "\n",
    "# Extract data\n",
    "x_train, y_train = next(iter(train_loader))\n",
    "x_test, y_test = next(iter(test_loader))\n",
    "\n",
    "# Flatten images into vectors\n",
    "x_train_flat = x_train.view(x_train.size(0), -1).numpy()\n",
    "x_test_flat = x_test.view(x_test.size(0), -1).numpy()\n",
    "\n",
    "# Normalize pixel values\n",
    "X = x_train_flat / 255.0\n",
    "x_test_flat = x_test_flat / 255.0"
   ]
  },
  {
   "cell_type": "code",
   "execution_count": 6,
   "id": "2230a2a5",
   "metadata": {},
   "outputs": [],
   "source": [
    "%%capture\n",
    "## RBFNN coreset\n",
    "# ----- 1. scale to the unit ball (‖x‖₂ ≤ 1) ---------------------------------\n",
    "R = np.max(np.linalg.norm(X, axis=1))\n",
    "X_scaled = X / R            #  now every point satisfies ‖x‖₂ ≤ 1\n",
    "\n",
    "# ----- 2. lifting step  q_p = [‖x‖² , -2xᵀ , 1] ------------------------------\n",
    "phi = np.hstack([\n",
    "    np.sum(X_scaled**2, axis=1, keepdims=True),   # ‖x‖₂²\n",
    "    -2 * X_scaled,                                # -2 xᵀ\n",
    "    np.ones((X_scaled.shape[0], 1))               # 1\n",
    "])\n",
    "\n",
    "# ----- 3. sensitivities & coreset -------------------------------------------\n",
    "sens = obtainSensitivity(phi, w=None, approxMVEE=True)\n",
    "m = 2000                                      # coreset size\n",
    "idx, X_cs_rbfnn, labels, w_cs_rbfnn, _ = generateCoreset(phi, y_train, sens, m)\n",
    "print(f\"Coreset shape: {X_cs_rbfnn.shape}\")\n",
    "print(f\"Coreset labels shape: {labels.shape}\")\n",
    "print(f\"Coreset weights shape: {w_cs_rbfnn.shape}\")"
   ]
  },
  {
   "cell_type": "code",
   "execution_count": 13,
   "id": "31257d6c",
   "metadata": {},
   "outputs": [],
   "source": [
    "X_cs = X[idx,]\n",
    "X_cs.shape\n",
    "Y_cs = y_train[idx]"
   ]
  },
  {
   "cell_type": "code",
   "execution_count": 10,
   "id": "cc4884b1",
   "metadata": {},
   "outputs": [
    {
     "name": "stdout",
     "output_type": "stream",
     "text": [
      "(10000, 3072)\n",
      "(2000,)\n",
      "Coreset shape: (2000, 3074)\n",
      "Coreset labels shape: torch.Size([2000])\n",
      "Coreset weights shape: (2000,)\n"
     ]
    }
   ],
   "source": [
    "print(X.shape)\n",
    "print(idx.shape)\n",
    "print(f\"Coreset shape: {X_cs_rbfnn.shape}\")\n",
    "print(f\"Coreset labels shape: {labels.shape}\")\n",
    "print(f\"Coreset weights shape: {w_cs_rbfnn.shape}\")"
   ]
  },
  {
   "cell_type": "code",
   "execution_count": 19,
   "id": "17368918",
   "metadata": {},
   "outputs": [
    {
     "name": "stdout",
     "output_type": "stream",
     "text": [
      "SVM PCA accuracy on airplane vs bird: 75.90%\n"
     ]
    }
   ],
   "source": [
    "# Initialize and train SVM\n",
    "clf = svm.SVC(kernel='linear')\n",
    "clf.fit(X_cs,Y_cs,sample_weight=w_cs_rbfnn)\n",
    "\n",
    "# Predict and evaluate\n",
    "y_pred = clf.predict(x_test_flat)\n",
    "accuracy = accuracy_score(y_test, y_pred)\n",
    "\n",
    "print(f\"SVM PCA accuracy on airplane vs bird: {accuracy * 100:.2f}%\")"
   ]
  }
 ],
 "metadata": {
  "kernelspec": {
   "display_name": "ffcv",
   "language": "python",
   "name": "python3"
  },
  "language_info": {
   "codemirror_mode": {
    "name": "ipython",
    "version": 3
   },
   "file_extension": ".py",
   "mimetype": "text/x-python",
   "name": "python",
   "nbconvert_exporter": "python",
   "pygments_lexer": "ipython3",
   "version": "3.9.17"
  }
 },
 "nbformat": 4,
 "nbformat_minor": 5
}
