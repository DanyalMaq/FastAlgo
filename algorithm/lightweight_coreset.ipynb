{
  "nbformat": 4,
  "nbformat_minor": 0,
  "metadata": {
    "colab": {
      "provenance": [],
      "gpuType": "T4"
    },
    "kernelspec": {
      "name": "python3",
      "display_name": "Python 3"
    },
    "language_info": {
      "name": "python"
    },
    "accelerator": "GPU"
  },
  "cells": [
    {
      "cell_type": "code",
      "source": [
        "!pip install -q torch_xla[tpu] -f https://storage.googleapis.com/libtorch-xla-releases/wheels/tpuvm/colab.html"
      ],
      "metadata": {
        "id": "G8gYC-L5D_xQ"
      },
      "execution_count": null,
      "outputs": []
    },
    {
      "cell_type": "code",
      "execution_count": null,
      "metadata": {
        "colab": {
          "base_uri": "https://localhost:8080/"
        },
        "id": "Blh-3A-rDKYy",
        "outputId": "cb9b53da-bb3d-4d58-d879-3846c7afba34"
      },
      "outputs": [
        {
          "output_type": "stream",
          "name": "stderr",
          "text": [
            "Loading CIFAR-10: 100%|██████████| 5/5 [00:09<00:00,  1.99s/it]\n",
            "Computing denominator: 100%|██████████| 5/5 [00:10<00:00,  2.13s/it]\n",
            "Computing q(x) for all dataset indices: 100%|██████████| 5/5 [00:10<00:00,  2.12s/it]\n"
          ]
        }
      ],
      "source": [
        "import numpy as np\n",
        "import torch\n",
        "import torch.nn as nn\n",
        "import torch.optim as optim\n",
        "from torchvision.models import resnet18\n",
        "from torch.optim.lr_scheduler import CosineAnnealingLR\n",
        "import torchvision\n",
        "import torchvision.transforms as transforms\n",
        "from torch.utils.data import DataLoader\n",
        "from torchvision import datasets, transforms\n",
        "# from sklearn.cluster import KMeans\n",
        "from tqdm import tqdm\n",
        "from torch.utils.data import Subset\n",
        "\n",
        "import torch_xla\n",
        "import torch_xla.core.xla_model as xm\n",
        "import torch_xla.distributed.parallel_loader as pl\n",
        "\n",
        "\"\"\"Dataset part\"\"\"\n",
        "\n",
        "transform = transforms.Compose([\n",
        "    transforms.ToTensor(),\n",
        "    transforms.Normalize((0.4914, 0.4822, 0.4465), (0.2023, 0.1994, 0.2010))\n",
        "])\n",
        "train_dataset = datasets.CIFAR10(root=\"./data\", train=True, download=True, transform=transform)\n",
        "test_dataset = datasets.CIFAR10(root=\"./data\", train=False, download=True, transform=transform)\n",
        "\n",
        "train_loader = DataLoader(train_dataset, batch_size=10000, shuffle=True)\n",
        "val_loader = DataLoader(test_dataset, batch_size=20, shuffle=False)\n",
        "\n",
        "\n",
        "mean_image = 0.0\n",
        "total_samples = 0\n",
        "denom = 0.0\n",
        "\n",
        "for batch_idx, (inputs, targets) in enumerate(tqdm(train_loader, desc=\"Loading CIFAR-10\")):\n",
        "    batch_samples = inputs.size(0)\n",
        "    mean_image += inputs.sum(dim=0)  # sum over batch dimension -> shape (C, H, W)\n",
        "    total_samples += batch_samples\n",
        "\n",
        "mean_image /= total_samples\n",
        "mu_flat = mean_image.view(1, -1)\n",
        "\n",
        "for batch_idx, (inputs, targets) in enumerate(tqdm(train_loader, desc=\"Computing denominator\")):\n",
        "    # inputs: shape (B, C, H, W)\n",
        "    batch_flat = inputs.view(inputs.size(0), -1)\n",
        "\n",
        "    # Compute squared distance to mean for each sample in batch\n",
        "    dists_squared = ((batch_flat - mu_flat) ** 2).sum(dim=1)\n",
        "\n",
        "    # Sum\n",
        "    denom += dists_squared.sum().item()\n",
        "\n",
        "q_values = torch.empty(total_samples) # Our q(x)\n",
        "start_idx = 0\n",
        "\n",
        "for batch_idx, (inputs, targets) in enumerate(tqdm(train_loader, desc=\"Computing q(x) for all dataset indices\")):\n",
        "    batch_size = inputs.size(0)\n",
        "    end_idx = start_idx + batch_size\n",
        "\n",
        "    # Compute squared distances to the mean\n",
        "    batch_flat = inputs.view(batch_size, -1)\n",
        "    dists_squared = ((batch_flat - mu_flat) ** 2).sum(dim=1)\n",
        "\n",
        "    # Compute q(x)\n",
        "    q_batch = 0.5 * (1 / total_samples) + 0.5 * (dists_squared / denom)\n",
        "    q_values[start_idx:end_idx] = q_batch\n",
        "\n",
        "    start_idx = end_idx"
      ]
    },
    {
      "cell_type": "code",
      "source": [
        "# 1 / q(x)\n",
        "sampling_probs = (1.0 / q_values)\n",
        "sampling_probs /= sampling_probs.sum()  # normalize to sum to 1\n",
        "\n",
        "m = 20000  # TODO Use the general way later\n",
        "sample_indices = torch.multinomial(sampling_probs, num_samples=m, replacement=False)\n",
        "\n",
        "coreset = Subset(train_dataset, sample_indices.tolist())\n",
        "coreset_loader = torch.utils.data.DataLoader(coreset, batch_size=2048, shuffle=False)"
      ],
      "metadata": {
        "id": "kUzxW_4dHlBV"
      },
      "execution_count": null,
      "outputs": []
    },
    {
      "cell_type": "code",
      "source": [
        "\"\"\"Training model part\"\"\"\n",
        "\n",
        "# Use MPS if available (for Macs), otherwise fallback\n",
        "# device = torch.device(\"mps\" if torch.backends.mps.is_available() else \"cuda\" if torch.cuda.is_available() else \"cpu\")\n",
        "device = xm.xla_device()\n",
        "print(f\"Using device: {device}\")\n",
        "\n",
        "# Load ResNet18\n",
        "\n",
        "model = resnet18(num_classes=10).to(device)\n",
        "criterion = nn.CrossEntropyLoss()\n",
        "optimizer = optim.SGD(model.parameters(), lr=0.01, momentum=0.9, weight_decay=5e-4)\n",
        "scheduler = CosineAnnealingLR(optimizer, T_max=300)\n",
        "\n",
        "# Training loop\n",
        "def train(model, train_loader, epochs=300):\n",
        "    for epoch in range(epochs):\n",
        "        model.train()\n",
        "        running_loss = 0.0\n",
        "        correct = 0\n",
        "        total = 0\n",
        "\n",
        "        para_loader = pl.MpDeviceLoader(train_loader, device)\n",
        "        loop = tqdm(para_loader, desc=f\"Epoch [{epoch+1}/{epochs}]\")\n",
        "\n",
        "        for inputs, targets in loop:\n",
        "            optimizer.zero_grad()\n",
        "            outputs = model(inputs)\n",
        "            loss = criterion(outputs, targets)\n",
        "            loss.backward()\n",
        "            xm.optimizer_step(optimizer)\n",
        "\n",
        "            running_loss += loss.item()\n",
        "            _, predicted = outputs.max(1)\n",
        "            total += targets.size(0)\n",
        "            correct += predicted.eq(targets).sum().item()\n",
        "\n",
        "            loop.set_postfix(loss=running_loss/(total/inputs.size(0)), acc=100.*correct/total)\n",
        "\n",
        "        scheduler.step()\n",
        "    return model\n",
        "\n",
        "# Validation loop\n",
        "def validate(model, val_loader):\n",
        "    model.eval()\n",
        "    correct = 0\n",
        "    total = 0\n",
        "    with torch.no_grad():\n",
        "        para_loader = pl.MpDeviceLoader(val_loader, device)\n",
        "        for inputs, targets in para_loader:\n",
        "            outputs = model(inputs)\n",
        "            _, predicted = outputs.max(1)\n",
        "            total += targets.size(0)\n",
        "            correct += predicted.eq(targets).sum().item()\n",
        "    acc = 100. * correct / total\n",
        "    print(f\"Validation Accuracy: {acc:.2f}%\")\n",
        "\n",
        "# Main entry\n",
        "model = train(model, coreset_loader, epochs=35)\n",
        "validate(model, val_loader)"
      ],
      "metadata": {
        "colab": {
          "base_uri": "https://localhost:8080/"
        },
        "id": "WpDam-d5ELSn",
        "outputId": "def4f9e5-a70b-4a55-d805-7e01fe045871"
      },
      "execution_count": null,
      "outputs": [
        {
          "output_type": "stream",
          "name": "stdout",
          "text": [
            "Using device: xla:0\n"
          ]
        },
        {
          "output_type": "stream",
          "name": "stderr",
          "text": [
            "Epoch [1/35]: 100%|██████████| 10/10 [01:02<00:00,  6.27s/it, acc=20.4, loss=1.71]\n",
            "Epoch [2/35]: 100%|██████████| 10/10 [00:04<00:00,  2.42it/s, acc=36.4, loss=1.37]\n",
            "Epoch [3/35]: 100%|██████████| 10/10 [00:04<00:00,  2.19it/s, acc=45.3, loss=1.19]\n",
            "Epoch [4/35]: 100%|██████████| 10/10 [00:04<00:00,  2.38it/s, acc=51.5, loss=1.05]\n",
            "Epoch [5/35]: 100%|██████████| 10/10 [00:04<00:00,  2.31it/s, acc=58.2, loss=0.92]\n",
            "Epoch [6/35]: 100%|██████████| 10/10 [00:04<00:00,  2.38it/s, acc=64, loss=0.805]\n",
            "Epoch [7/35]: 100%|██████████| 10/10 [00:04<00:00,  2.35it/s, acc=69.3, loss=0.701]\n",
            "Epoch [8/35]: 100%|██████████| 10/10 [00:04<00:00,  2.20it/s, acc=71.7, loss=0.653]\n",
            "Epoch [9/35]: 100%|██████████| 10/10 [00:04<00:00,  2.35it/s, acc=73.5, loss=0.603]\n",
            "Epoch [10/35]: 100%|██████████| 10/10 [00:04<00:00,  2.39it/s, acc=78.2, loss=0.508]\n",
            "Epoch [11/35]: 100%|██████████| 10/10 [00:04<00:00,  2.33it/s, acc=83.8, loss=0.397]\n",
            "Epoch [12/35]: 100%|██████████| 10/10 [00:04<00:00,  2.37it/s, acc=87.4, loss=0.32]\n",
            "Epoch [13/35]: 100%|██████████| 10/10 [00:04<00:00,  2.20it/s, acc=90.3, loss=0.249]\n",
            "Epoch [14/35]: 100%|██████████| 10/10 [00:04<00:00,  2.32it/s, acc=92, loss=0.209]\n",
            "Epoch [15/35]: 100%|██████████| 10/10 [00:04<00:00,  2.41it/s, acc=93, loss=0.18]\n",
            "Epoch [16/35]: 100%|██████████| 10/10 [00:04<00:00,  2.37it/s, acc=94.9, loss=0.139]\n",
            "Epoch [17/35]: 100%|██████████| 10/10 [00:04<00:00,  2.28it/s, acc=96.8, loss=0.0968]\n",
            "Epoch [18/35]: 100%|██████████| 10/10 [00:04<00:00,  2.44it/s, acc=97.7, loss=0.0729]\n",
            "Epoch [19/35]: 100%|██████████| 10/10 [00:04<00:00,  2.40it/s, acc=98, loss=0.0641]\n",
            "Epoch [20/35]: 100%|██████████| 10/10 [00:04<00:00,  2.49it/s, acc=98.5, loss=0.053]\n",
            "Epoch [21/35]: 100%|██████████| 10/10 [00:04<00:00,  2.42it/s, acc=99, loss=0.0353]\n",
            "Epoch [22/35]: 100%|██████████| 10/10 [00:04<00:00,  2.32it/s, acc=99.5, loss=0.0189]\n",
            "Epoch [23/35]: 100%|██████████| 10/10 [00:04<00:00,  2.42it/s, acc=99.6, loss=0.0134]\n",
            "Epoch [24/35]: 100%|██████████| 10/10 [00:04<00:00,  2.41it/s, acc=99.6, loss=0.0132]\n",
            "Epoch [25/35]: 100%|██████████| 10/10 [00:04<00:00,  2.41it/s, acc=99, loss=0.0267]\n",
            "Epoch [26/35]: 100%|██████████| 10/10 [00:04<00:00,  2.36it/s, acc=98.8, loss=0.0333]\n",
            "Epoch [27/35]: 100%|██████████| 10/10 [00:04<00:00,  2.31it/s, acc=99, loss=0.0276]\n",
            "Epoch [28/35]: 100%|██████████| 10/10 [00:04<00:00,  2.41it/s, acc=99.5, loss=0.0172]\n",
            "Epoch [29/35]: 100%|██████████| 10/10 [00:04<00:00,  2.41it/s, acc=99.8, loss=0.00773]\n",
            "Epoch [30/35]: 100%|██████████| 10/10 [00:04<00:00,  2.21it/s, acc=100, loss=0.00344]\n",
            "Epoch [31/35]: 100%|██████████| 10/10 [00:04<00:00,  2.44it/s, acc=100, loss=0.00216]\n",
            "Epoch [32/35]: 100%|██████████| 10/10 [00:04<00:00,  2.41it/s, acc=100, loss=0.00164]\n",
            "Epoch [33/35]: 100%|██████████| 10/10 [00:04<00:00,  2.34it/s, acc=100, loss=0.00139]\n",
            "Epoch [34/35]: 100%|██████████| 10/10 [00:04<00:00,  2.26it/s, acc=100, loss=0.00123]\n",
            "Epoch [35/35]: 100%|██████████| 10/10 [00:04<00:00,  2.38it/s, acc=100, loss=0.00113]\n"
          ]
        },
        {
          "output_type": "stream",
          "name": "stdout",
          "text": [
            "Validation Accuracy: 52.75%\n"
          ]
        }
      ]
    },
    {
      "cell_type": "code",
      "source": [],
      "metadata": {
        "id": "vUm4e-0mHddU"
      },
      "execution_count": null,
      "outputs": []
    }
  ]
}